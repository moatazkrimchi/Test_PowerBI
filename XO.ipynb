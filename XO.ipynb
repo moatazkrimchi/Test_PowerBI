{
  "cells": [
    {
      "cell_type": "markdown",
      "metadata": {
        "id": "view-in-github",
        "colab_type": "text"
      },
      "source": [
        "<a href=\"https://colab.research.google.com/github/moatazkrimchi/Test_PowerBI/blob/main/XO.ipynb\" target=\"_parent\"><img src=\"https://colab.research.google.com/assets/colab-badge.svg\" alt=\"Open In Colab\"/></a>"
      ]
    },
    {
      "cell_type": "code",
      "source": [
        "L = list(range(501, 1000, 2))\n",
        "for i in L :\n",
        "  i = str(i)\n",
        "  if (i[0] == i[1] or i[0] == i[2] or i[1] == i[2]) and int(i[0]) + int(i[1]) + int(i[2]) == 9 :\n",
        "    print(i)\n",
        "  "
      ],
      "metadata": {
        "colab": {
          "base_uri": "https://localhost:8080/"
        },
        "id": "b_tsnOAw5V8K",
        "outputId": "e6849a9a-e553-45e6-ec2b-915facc9e3c1"
      },
      "execution_count": 29,
      "outputs": [
        {
          "output_type": "stream",
          "name": "stdout",
          "text": [
            "711\n"
          ]
        }
      ]
    },
    {
      "cell_type": "code",
      "source": [
        "n = int(input(\"Saisir la taille de la liste : \"))\n",
        "while n<2:\n",
        "  n = int(input(\"Saisir la taille de la liste : \"))\n",
        "L = []\n",
        "for i in range(n):\n",
        "  x = int(input(\"Saisir un nombre \"))\n",
        "  L.append(x)\n",
        "print(L)\n",
        "R = []\n",
        "if(L[0] > L[1]):\n",
        "  R.append(L[0])\n",
        "if(L[n-1] > L[n-2]):\n",
        "  R.append(L[n-1])\n",
        "for i in range(1,n-1):\n",
        "  if L[i] > L[i-1] and L[i] > L[i+1]:\n",
        "    R.append(L[i])\n",
        "print(R)"
      ],
      "metadata": {
        "colab": {
          "base_uri": "https://localhost:8080/"
        },
        "id": "b_7bqyHC6juw",
        "outputId": "fe855b71-912f-43b0-bec2-1b9394d18364"
      },
      "execution_count": 33,
      "outputs": [
        {
          "output_type": "stream",
          "name": "stdout",
          "text": [
            "Saisir la taille de la liste : 5\n",
            "Saisir un nombre 12\n",
            "Saisir un nombre 2\n",
            "Saisir un nombre 45\n",
            "Saisir un nombre 3\n",
            "Saisir un nombre 90\n",
            "[12, 2, 45, 3, 90]\n",
            "[12, 90, 45]\n"
          ]
        }
      ]
    },
    {
      "cell_type": "code",
      "source": [
        "n = int(input(\"Saisir la taille de la liste : \"))\n",
        "L = []\n",
        "for i in range(n):\n",
        "  x = int(input(\"Saisir un nombre \"))\n",
        "  L.append(x)\n",
        "print(L)\n",
        "for i in L : \n",
        "  c = 0\n",
        "  for j in L : \n",
        "    if j > i : \n",
        "      c = c + 1\n",
        "  if i == c :\n",
        "    print(c)"
      ],
      "metadata": {
        "id": "_3nUXQGz8i9r",
        "outputId": "3d4085ac-8d00-49ec-b780-0f776e130cd5",
        "colab": {
          "base_uri": "https://localhost:8080/"
        }
      },
      "execution_count": 38,
      "outputs": [
        {
          "output_type": "stream",
          "name": "stdout",
          "text": [
            "Saisir la taille de la liste : 5\n",
            "Saisir un nombre 12\n",
            "Saisir un nombre 56\n",
            "Saisir un nombre 8\n",
            "Saisir un nombre 3\n",
            "Saisir un nombre 0\n",
            "[12, 56, 8, 3, 0]\n",
            "3\n"
          ]
        }
      ]
    }
  ],
  "metadata": {
    "colab": {
      "name": "Bienvenue dans Colaboratory",
      "provenance": [],
      "include_colab_link": true
    },
    "kernelspec": {
      "display_name": "Python 3",
      "name": "python3"
    }
  },
  "nbformat": 4,
  "nbformat_minor": 0
}